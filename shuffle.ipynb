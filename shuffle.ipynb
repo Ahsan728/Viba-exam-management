{
 "cells": [
  {
   "cell_type": "markdown",
   "metadata": {},
   "source": [
    "# Python | Ways to shuffle a list\n"
   ]
  },
  {
   "cell_type": "markdown",
   "metadata": {},
   "source": [
    "Shuffling a sequence of numbers have always been an useful utility and the question that has appeared in many company placement interviews as well. Knowing more than one method to achieve this can always be a plus. Let’s discuss certain ways in which this can be achieved.\n",
    "\n"
   ]
  },
  {
   "cell_type": "markdown",
   "metadata": {},
   "source": [
    "# ## Method #1 : Fisher–Yates shuffle Algorithm\n",
    "\n",
    "This is one of the famous algorithms that is mainly employed to shuffle a sequence of numbers in python. This algorithm just takes the higher index value, and swaps it with current value, this process repeats in a loop till end of the list."
   ]
  },
  {
   "cell_type": "code",
   "execution_count": 3,
   "metadata": {},
   "outputs": [
    {
     "name": "stdout",
     "output_type": "stream",
     "text": [
      "The original list is : [1, 4, 5, 6, 3]\n",
      "The shuffled list is : [3, 4, 6, 1, 5]\n"
     ]
    }
   ],
   "source": [
    "# Python3 code to demonstrate \n",
    "# shuffle a list \n",
    "# using Fisher–Yates shuffle Algorithm \n",
    "\n",
    "import random \n",
    "\n",
    "# initializing list \n",
    "test_list = [1, 4, 5, 6, 3] \n",
    "\n",
    "# Printing original list \n",
    "print (\"The original list is : \" + str(test_list)) \n",
    "\n",
    "# using Fisher–Yates shuffle Algorithm \n",
    "# to shuffle a list \n",
    "for i in range(len(test_list)-1, 0, -1): \n",
    "\t\n",
    "\t# Pick a random index from 0 to i \n",
    "\tj = random.randint(0, i + 1) \n",
    "\t\n",
    "\t# Swap arr[i] with the element at random index \n",
    "\ttest_list[i], test_list[j] = test_list[j], test_list[i] \n",
    "\t\n",
    "# Printing shuffled list \n",
    "print (\"The shuffled list is : \" + str(test_list)) \n"
   ]
  },
  {
   "cell_type": "markdown",
   "metadata": {},
   "source": [
    "# Method #2 : Using random.shuffle()\n",
    "This is most recommended method to shuffle a list. Python in its random library provides this inbuilt function which in-place shuffles the list. Drawback of this is that list ordering is lost in this process. Useful for developers who choose to save time and hustle."
   ]
  },
  {
   "cell_type": "code",
   "execution_count": 4,
   "metadata": {},
   "outputs": [
    {
     "name": "stdout",
     "output_type": "stream",
     "text": [
      "The original list is : [1, 4, 5, 6, 3]\n",
      "The shuffled list is : [4, 3, 6, 5, 1]\n"
     ]
    }
   ],
   "source": [
    "# Python3 code to demonstrate \n",
    "# shuffle a list \n",
    "# using random.shuffle() \n",
    "\n",
    "import random \n",
    "\n",
    "# initializing list \n",
    "test_list = [1, 4, 5, 6, 3] \n",
    "\n",
    "# Printing original list \n",
    "print (\"The original list is : \" + str(test_list)) \n",
    "\n",
    "# using random.shuffle() \n",
    "# to shuffle a list \n",
    "random.shuffle(test_list) \n",
    "\n",
    "# Printing shuffled list \n",
    "print (\"The shuffled list is : \" + str(test_list)) \n"
   ]
  },
  {
   "cell_type": "markdown",
   "metadata": {},
   "source": [
    "# Method #3 : Using random.sample()\n",
    "This is quite a useful function, better than the shuffle method used above in aspect that it creates a new shuffled list and returns it rather than disturbing the order of original list. This is useful in cases we require to retain the original list."
   ]
  },
  {
   "cell_type": "code",
   "execution_count": 5,
   "metadata": {},
   "outputs": [
    {
     "name": "stdout",
     "output_type": "stream",
     "text": [
      "The original list is : [1, 4, 5, 6, 3]\n",
      "The shuffled list is : [4, 1, 6, 3, 5]\n"
     ]
    }
   ],
   "source": [
    "# Python3 code to demonstrate \n",
    "# shuffle a list \n",
    "# using random.sample() \n",
    "\n",
    "import random \n",
    "\n",
    "# initializing list \n",
    "test_list = [1, 4, 5, 6, 3] \n",
    "\n",
    "# Printing original list \n",
    "print (\"The original list is : \" + str(test_list)) \n",
    "\n",
    "# using random.sample() \n",
    "# to shuffle a list \n",
    "res = random.sample(test_list, len(test_list)) \n",
    "\n",
    "# Printing shuffled list \n",
    "print (\"The shuffled list is : \" + str(res)) \n"
   ]
  },
  {
   "cell_type": "markdown",
   "metadata": {},
   "source": [
    "# Pandas – How to shuffle a DataFrame rows\n",
    "Let us see how to shuffle the rows of a DataFrame. We will be using the sample() method of the pandas module to to randomly shuffle DataFrame rows in Pandas."
   ]
  },
  {
   "cell_type": "markdown",
   "metadata": {},
   "source": [
    "Algorithm :\n",
    "\n",
    "1.Import the pandas and numpy modules.\n",
    "2.Create a DataFrame.\n",
    "3.Shuffle the rows of the DataFrame using the sample() method with the parameter frac as 1, it determines what fraction of total instances need to be returned.\n",
    "4.Print the original and the shuffled DataFrames."
   ]
  },
  {
   "cell_type": "code",
   "execution_count": 6,
   "metadata": {},
   "outputs": [
    {
     "name": "stdout",
     "output_type": "stream",
     "text": [
      "Original DataFrame :\n",
      "          name   runs\n",
      "0    Tendulkar  18426\n",
      "1   Sangakkara  14234\n",
      "2      Ponting  13704\n",
      "3    Jayasurya  13430\n",
      "4  Jayawardene  12650\n",
      "5        Kohli  11867\n",
      "6          Haq  11739\n",
      "7       Kallis  11579\n",
      "8      Ganguly  11363\n",
      "9       Dravid  10889\n",
      "\n",
      "Shuffled DataFrame:\n",
      "          name   runs\n",
      "9       Dravid  10889\n",
      "0    Tendulkar  18426\n",
      "4  Jayawardene  12650\n",
      "5        Kohli  11867\n",
      "8      Ganguly  11363\n",
      "2      Ponting  13704\n",
      "3    Jayasurya  13430\n",
      "7       Kallis  11579\n",
      "6          Haq  11739\n",
      "1   Sangakkara  14234\n"
     ]
    }
   ],
   "source": [
    "# import the modules \n",
    "import pandas as pd \n",
    "import numpy as np \n",
    "\n",
    "# create a DataFrame \n",
    "ODI_runs = {'name': ['Tendulkar', 'Sangakkara', 'Ponting', \n",
    "\t\t\t\t\t'Jayasurya', 'Jayawardene', 'Kohli', \n",
    "\t\t\t\t\t'Haq', 'Kallis', 'Ganguly', 'Dravid'], \n",
    "\t\t\t'runs': [18426, 14234, 13704, 13430, 12650, \n",
    "\t\t\t\t\t11867, 11739, 11579, 11363, 10889]} \n",
    "df = pd.DataFrame(ODI_runs) \n",
    "\n",
    "# print the original DataFrame \n",
    "print(\"Original DataFrame :\") \n",
    "print(df) \n",
    "\n",
    "# shuffle the DataFrame rows \n",
    "df = df.sample(frac = 1) \n",
    "\n",
    "# print the shuffled DataFrame \n",
    "print(\"\\nShuffled DataFrame:\") \n",
    "print(df) \n"
   ]
  },
  {
   "cell_type": "code",
   "execution_count": null,
   "metadata": {},
   "outputs": [],
   "source": [
    "import random \n",
    "from random import randint\n",
    "list1=['Who is the inventor of Electricity?','What is the Alternating Current frequency in Bangladesh?',\n",
    "       '1 Byte = ....bit?','LDR full form?','When a Wheatstone bridge is in a balanced condition,the center voltmeter in the bridge will read:']\n",
    "list2=['Tesla','50 Hz','8','Light Dependent Resistor','0']\n",
    "ans=dict(zip(list1,list2))\n",
    "x= random.randint(0,len(list1)-1)\n",
    "y=list1[x]\n",
    "print(y)\n",
    "your_answer=input('Answer:')\n",
    "if your_answer == ans[y]:\n",
    "    print('correct')\n",
    "else:\n",
    "    print ('incorrect')\n",
    "    "
   ]
  },
  {
   "cell_type": "code",
   "execution_count": null,
   "metadata": {},
   "outputs": [],
   "source": [
    "import random \n",
    "from random import randint"
   ]
  },
  {
   "cell_type": "code",
   "execution_count": null,
   "metadata": {},
   "outputs": [],
   "source": [
    "list1=['Who is the inventor of Electricity?','What is the Alternating Current frequency in Bangladesh?',\n",
    "       '1 Byte = ....bit?','LDR full form?','When a Wheatstone bridge is in a balanced condition,the center voltmeter in the bridge will read:']\n",
    "list2=['Tesla','50 Hz','8','Light Dependent Resistor','0']\n",
    "ans=dict(zip(list1,list2))\n",
    "x= random.randint(0,len(list1)-1)\n",
    "y=list1[x]\n",
    "print(y)\n",
    "your_answer=input('Answer:')\n",
    "if your_answer == ans[y]:\n",
    "    print('correct')\n",
    "else:\n",
    "    print ('incorrect')"
   ]
  },
  {
   "cell_type": "code",
   "execution_count": null,
   "metadata": {},
   "outputs": [],
   "source": []
  }
 ],
 "metadata": {
  "kernelspec": {
   "display_name": "Python 3",
   "language": "python",
   "name": "python3"
  },
  "language_info": {
   "codemirror_mode": {
    "name": "ipython",
    "version": 3
   },
   "file_extension": ".py",
   "mimetype": "text/x-python",
   "name": "python",
   "nbconvert_exporter": "python",
   "pygments_lexer": "ipython3",
   "version": "3.8.3"
  }
 },
 "nbformat": 4,
 "nbformat_minor": 4
}
